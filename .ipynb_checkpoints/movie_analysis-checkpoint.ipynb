{
 "cells": [
  {
   "cell_type": "code",
   "execution_count": 373,
   "id": "4d874b83-eaa3-4b24-a22a-c5bb1d3dc779",
   "metadata": {},
   "outputs": [],
   "source": [
    "import pandas as pd\n",
    "import matplotlib.pyplot as plt\n",
    "import seaborn as sns\n",
    "oscar = pd.read_csv('movies.csv')"
   ]
  },
  {
   "cell_type": "code",
   "execution_count": 374,
   "id": "43247e67-83b2-4cca-a026-16e72cdbb8bb",
   "metadata": {},
   "outputs": [
    {
     "data": {
      "text/html": [
       "<div>\n",
       "<style scoped>\n",
       "    .dataframe tbody tr th:only-of-type {\n",
       "        vertical-align: middle;\n",
       "    }\n",
       "\n",
       "    .dataframe tbody tr th {\n",
       "        vertical-align: top;\n",
       "    }\n",
       "\n",
       "    .dataframe thead th {\n",
       "        text-align: right;\n",
       "    }\n",
       "</style>\n",
       "<table border=\"1\" class=\"dataframe\">\n",
       "  <thead>\n",
       "    <tr style=\"text-align: right;\">\n",
       "      <th></th>\n",
       "      <th>Title</th>\n",
       "      <th>Year</th>\n",
       "      <th>Rated</th>\n",
       "      <th>Released</th>\n",
       "      <th>Runtime</th>\n",
       "      <th>Genre</th>\n",
       "      <th>Director</th>\n",
       "      <th>Writer</th>\n",
       "      <th>Actors</th>\n",
       "      <th>Plot</th>\n",
       "      <th>...</th>\n",
       "      <th>Metascore</th>\n",
       "      <th>imdbRating</th>\n",
       "      <th>imdbVotes</th>\n",
       "      <th>imdbID</th>\n",
       "      <th>Type</th>\n",
       "      <th>DVD</th>\n",
       "      <th>BoxOffice</th>\n",
       "      <th>Production</th>\n",
       "      <th>Website</th>\n",
       "      <th>Response</th>\n",
       "    </tr>\n",
       "  </thead>\n",
       "  <tbody>\n",
       "    <tr>\n",
       "      <th>0</th>\n",
       "      <td>Parasite</td>\n",
       "      <td>2019</td>\n",
       "      <td>R</td>\n",
       "      <td>08 Nov 2019</td>\n",
       "      <td>132 min</td>\n",
       "      <td>Comedy, Drama, Horror</td>\n",
       "      <td>Bong Joon Ho</td>\n",
       "      <td>Bong Joon Ho, Han Jin-won</td>\n",
       "      <td>Kang-ho Song, Sun-kyun Lee, Yeo-jeong Cho</td>\n",
       "      <td>Greed and class discrimination threaten the ne...</td>\n",
       "      <td>...</td>\n",
       "      <td>96</td>\n",
       "      <td>8.5</td>\n",
       "      <td>737,033</td>\n",
       "      <td>tt6751668</td>\n",
       "      <td>movie</td>\n",
       "      <td>11 Oct 2019</td>\n",
       "      <td>$53,369,749</td>\n",
       "      <td>NaN</td>\n",
       "      <td>NaN</td>\n",
       "      <td>True</td>\n",
       "    </tr>\n",
       "    <tr>\n",
       "      <th>1</th>\n",
       "      <td>Green Book</td>\n",
       "      <td>2018</td>\n",
       "      <td>PG-13</td>\n",
       "      <td>16 Nov 2018</td>\n",
       "      <td>130 min</td>\n",
       "      <td>Biography, Comedy, Drama</td>\n",
       "      <td>Peter Farrelly</td>\n",
       "      <td>Nick Vallelonga, Brian Hayes Currie, Peter Far...</td>\n",
       "      <td>Viggo Mortensen, Mahershala Ali, Linda Cardellini</td>\n",
       "      <td>A working-class Italian-American bouncer becom...</td>\n",
       "      <td>...</td>\n",
       "      <td>69</td>\n",
       "      <td>8.2</td>\n",
       "      <td>461,846</td>\n",
       "      <td>tt6966692</td>\n",
       "      <td>movie</td>\n",
       "      <td>12 Mar 2019</td>\n",
       "      <td>$85,080,171</td>\n",
       "      <td>NaN</td>\n",
       "      <td>NaN</td>\n",
       "      <td>True</td>\n",
       "    </tr>\n",
       "  </tbody>\n",
       "</table>\n",
       "<p>2 rows × 25 columns</p>\n",
       "</div>"
      ],
      "text/plain": [
       "        Title  Year  Rated     Released  Runtime                     Genre  \\\n",
       "0    Parasite  2019      R  08 Nov 2019  132 min     Comedy, Drama, Horror   \n",
       "1  Green Book  2018  PG-13  16 Nov 2018  130 min  Biography, Comedy, Drama   \n",
       "\n",
       "         Director                                             Writer  \\\n",
       "0    Bong Joon Ho                          Bong Joon Ho, Han Jin-won   \n",
       "1  Peter Farrelly  Nick Vallelonga, Brian Hayes Currie, Peter Far...   \n",
       "\n",
       "                                              Actors  \\\n",
       "0          Kang-ho Song, Sun-kyun Lee, Yeo-jeong Cho   \n",
       "1  Viggo Mortensen, Mahershala Ali, Linda Cardellini   \n",
       "\n",
       "                                                Plot  ... Metascore  \\\n",
       "0  Greed and class discrimination threaten the ne...  ...        96   \n",
       "1  A working-class Italian-American bouncer becom...  ...        69   \n",
       "\n",
       "  imdbRating imdbVotes     imdbID   Type          DVD    BoxOffice Production  \\\n",
       "0        8.5   737,033  tt6751668  movie  11 Oct 2019  $53,369,749        NaN   \n",
       "1        8.2   461,846  tt6966692  movie  12 Mar 2019  $85,080,171        NaN   \n",
       "\n",
       "  Website Response  \n",
       "0     NaN     True  \n",
       "1     NaN     True  \n",
       "\n",
       "[2 rows x 25 columns]"
      ]
     },
     "execution_count": 374,
     "metadata": {},
     "output_type": "execute_result"
    }
   ],
   "source": [
    "oscar.head(2)"
   ]
  },
  {
   "cell_type": "markdown",
   "id": "b8767df8",
   "metadata": {},
   "source": [
    "### 1) (Graph) What was the runtime for each movie?\n"
   ]
  },
  {
   "cell_type": "code",
   "execution_count": 375,
   "id": "9ecea718",
   "metadata": {},
   "outputs": [
    {
     "name": "stdout",
     "output_type": "stream",
     "text": [
      "                                             Title  Runtime\n",
      "0                                         Parasite      132\n",
      "1                                       Green Book      130\n",
      "2                               The Shape of Water      123\n",
      "3                                        Moonlight      111\n",
      "4                                        Spotlight      129\n",
      "5  Birdman or (The Unexpected Virtue of Ignorance)      119\n",
      "6                                 12 Years a Slave      134\n",
      "7                                             Argo      120\n",
      "8                                       The Artist      100\n",
      "9                                The King's Speech      118\n"
     ]
    },
    {
     "data": {
      "text/plain": [
       "<AxesSubplot:ylabel='Title'>"
      ]
     },
     "execution_count": 375,
     "metadata": {},
     "output_type": "execute_result"
    },
    {
     "data": {
      "image/png": "[encoded data removed]",
      "text/plain": [
       "<Figure size 432x288 with 1 Axes>"
      ]
     },
     "metadata": {
      "needs_background": "light"
     },
     "output_type": "display_data"
    }
   ],
   "source": [
    "oscar['Runtime'] = oscar['Runtime'].str.extract(r'(\\d+)')\n",
    "oscar['Runtime'] = oscar['Runtime'].astype(int)\n",
    "runtimes = oscar[['Title', 'Runtime']]\n",
    "runtimes.sort_values(by='Runtime', ascending=False)\n",
    "print(runtimes)\n",
    "runtimes.plot(x=\"Title\", kind='barh')"
   ]
  },
  {
   "cell_type": "markdown",
   "id": "e9e6cf09",
   "metadata": {},
   "source": [
    "### 2) What movie had the longest runtime?"
   ]
  },
  {
   "cell_type": "code",
   "execution_count": 376,
   "id": "847124a7",
   "metadata": {},
   "outputs": [
    {
     "name": "stdout",
     "output_type": "stream",
     "text": [
      "6    12 Years a Slave\n",
      "Name: Title, dtype: object\n"
     ]
    }
   ],
   "source": [
    "longest = oscar.sort_values(by=['Runtime'], ascending=False).head(1)\n",
    "print(longest.Title)"
   ]
  },
  {
   "cell_type": "markdown",
   "id": "d93d5e85",
   "metadata": {},
   "source": [
    "### 3)  Is there any relationship between the length of the movie (runtime) and the number of awards a movie won?\n",
    "  "
   ]
  },
  {
   "cell_type": "code",
   "execution_count": 377,
   "id": "523c0bcf",
   "metadata": {},
   "outputs": [
    {
     "data": {
      "text/plain": [
       "<AxesSubplot:xlabel='Awards', ylabel='Runtime'>"
      ]
     },
     "execution_count": 377,
     "metadata": {},
     "output_type": "execute_result"
    },
    {
     "data": {
      "image/png": "[encoded data removed]",
      "text/plain": [
       "<Figure size 432x288 with 1 Axes>"
      ]
     },
     "metadata": {
      "needs_background": "light"
     },
     "output_type": "display_data"
    }
   ],
   "source": [
    "oscar['Awards'] = oscar['Awards'].str.extract(r'([^\\.]\\d+[^\\s])')\n",
    "oscar['Awards'] = oscar['Awards'].astype(int)\n",
    "sns.scatterplot(data=oscar, x=\"Awards\", y=\"Runtime\")\n",
    "sns.regplot(x='Awards',y='Runtime',data=oscar, fit_reg=True) \n"
   ]
  },
  {
   "cell_type": "markdown",
   "id": "0d0a51b6",
   "metadata": {},
   "source": [
    "### 4)  (Graph) How many awards and nominations did each movie receive?"
   ]
  },
  {
   "cell_type": "code",
   "execution_count": 378,
   "id": "11d3166b",
   "metadata": {},
   "outputs": [
    {
     "name": "stdout",
     "output_type": "stream",
     "text": [
      "   Awards                                            Title\n",
      "0     308                                         Parasite\n",
      "6     242                                 12 Years a Slave\n",
      "3     228                                        Moonlight\n",
      "5     193  Birdman or (The Unexpected Virtue of Ignorance)\n",
      "8     162                                       The Artist\n",
      "2     138                               The Shape of Water\n",
      "4     124                                        Spotlight\n",
      "9     108                                The King's Speech\n",
      "7      94                                             Argo\n",
      "1      59                                       Green Book\n"
     ]
    },
    {
     "data": {
      "text/plain": [
       "<AxesSubplot:ylabel='Title'>"
      ]
     },
     "execution_count": 378,
     "metadata": {},
     "output_type": "execute_result"
    },
    {
     "data": {
      "image/png": "[encoded data removed]",
      "text/plain": [
       "<Figure size 432x288 with 1 Axes>"
      ]
     },
     "metadata": {
      "needs_background": "light"
     },
     "output_type": "display_data"
    }
   ],
   "source": [
    "awards = oscar[['Awards', 'Title']]\n",
    "awards = awards.sort_values(by='Awards', ascending=False)\n",
    "print(awards)\n",
    "awards.plot(x=\"Title\", kind='barh')"
   ]
  },
  {
   "cell_type": "code",
   "execution_count": 391,
   "id": "b4309e8a",
   "metadata": {},
   "outputs": [
    {
     "name": "stdout",
     "output_type": "stream",
     "text": [
      "   Awards                                            Title\n",
      "2     358                               The Shape of Water\n",
      "6     337                                 12 Years a Slave\n",
      "3     296                                        Moonlight\n",
      "5     292  Birdman or (The Unexpected Virtue of Ignorance)\n",
      "0     271                                         Parasite\n",
      "9     206                                The King's Speech\n",
      "8     204                                       The Artist\n",
      "7     156                                             Argo\n",
      "4     143                                        Spotlight\n",
      "1     124                                       Green Book\n"
     ]
    },
    {
     "data": {
      "text/plain": [
       "<AxesSubplot:ylabel='Title'>"
      ]
     },
     "execution_count": 391,
     "metadata": {},
     "output_type": "execute_result"
    },
    {
     "data": {
      "image/png": "[encoded data removed]",
      "text/plain": [
       "<Figure size 432x288 with 1 Axes>"
      ]
     },
     "metadata": {
      "needs_background": "light"
     },
     "output_type": "display_data"
    }
   ],
   "source": [
    "oscar2 = pd.read_csv('movies.csv')\n",
    "print(oscar2['Awards'])\n",
    "oscar2['Awards'] = oscar2['Awards'].str.extract(r'(?:[^,]*[^0-9,])?(\\d+)')\n",
    "oscar2['Awards'] = oscar2['Awards'].astype(int)\n",
    "nominations = oscar2[['Awards', 'Title']]\n",
    "nominations = nominations.sort_values(by='Awards', ascending=False)\n",
    "print(nominations)\n",
    "nominations.plot(x=\"Title\", kind='barh')\n",
    "\n",
    "#print(nominations[1])\n",
    "#oscars = oscar['Awards'].str.extract(r'(-?\\d+(?:\\.\\d+)?)')\n",
    "#print(oscars)\n",
    "#awards = (oscar['Awards'].str.extract(r'([^\\.]\\d+[^\\s])'))\n",
    "#print(awards)\n",
    "\n",
    "#nominations = oscar['Awards'].str.extract(r'(^(?:[^,]*[^0-9,])?(\\d+))')\n",
    "#print(nominations[1])\n",
    "#oscars = oscar['Awards'].str.extract(r'(-?\\d+(?:\\.\\d+)?)')\n",
    "#print(oscars)\n",
    "#awards = (oscar['Awards'].str.extract(r'([^\\.]\\d+[^\\s])'))\n",
    "#print(awards)\n"
   ]
  },
  {
   "cell_type": "code",
   "execution_count": null,
   "id": "d571549c",
   "metadata": {},
   "outputs": [],
   "source": []
  },
  {
   "cell_type": "code",
   "execution_count": null,
   "id": "9ba035c3",
   "metadata": {},
   "outputs": [],
   "source": []
  },
  {
   "cell_type": "code",
   "execution_count": null,
   "id": "9f3ae416",
   "metadata": {},
   "outputs": [],
   "source": []
  }
 ],
 "metadata": {
  "kernelspec": {
   "display_name": "Python 3 (ipykernel)",
   "language": "python",
   "name": "python3"
  },
  "language_info": {
   "codemirror_mode": {
    "name": "ipython",
    "version": 3
   },
   "file_extension": ".py",
   "mimetype": "text/x-python",
   "name": "python",
   "nbconvert_exporter": "python",
   "pygments_lexer": "ipython3",
   "version": "3.9.7"
  }
 },
 "nbformat": 4,
 "nbformat_minor": 5
}
