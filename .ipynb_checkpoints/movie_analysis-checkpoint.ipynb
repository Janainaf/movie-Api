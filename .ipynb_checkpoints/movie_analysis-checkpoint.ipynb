{
 "cells": [
  {
   "cell_type": "code",
   "execution_count": 75,
   "id": "4d874b83-eaa3-4b24-a22a-c5bb1d3dc779",
   "metadata": {},
   "outputs": [],
   "source": [
    "import pandas as pd\n",
    "import matplotlib.pyplot as plt\n",
    "import seaborn as sns\n",
    "oscar = pd.read_csv('movies.csv')"
   ]
  },
  {
   "cell_type": "code",
   "execution_count": 76,
   "id": "43247e67-83b2-4cca-a026-16e72cdbb8bb",
   "metadata": {},
   "outputs": [
    {
     "data": {
      "text/html": [
       "<div>\n",
       "<style scoped>\n",
       "    .dataframe tbody tr th:only-of-type {\n",
       "        vertical-align: middle;\n",
       "    }\n",
       "\n",
       "    .dataframe tbody tr th {\n",
       "        vertical-align: top;\n",
       "    }\n",
       "\n",
       "    .dataframe thead th {\n",
       "        text-align: right;\n",
       "    }\n",
       "</style>\n",
       "<table border=\"1\" class=\"dataframe\">\n",
       "  <thead>\n",
       "    <tr style=\"text-align: right;\">\n",
       "      <th></th>\n",
       "      <th>Year</th>\n",
       "      <th>Rated</th>\n",
       "      <th>Released</th>\n",
       "      <th>Runtime</th>\n",
       "      <th>Genre</th>\n",
       "      <th>Director</th>\n",
       "      <th>Writer</th>\n",
       "      <th>Actors</th>\n",
       "      <th>Plot</th>\n",
       "      <th>Language</th>\n",
       "      <th>...</th>\n",
       "      <th>Metascore</th>\n",
       "      <th>imdbRating</th>\n",
       "      <th>imdbVotes</th>\n",
       "      <th>imdbID</th>\n",
       "      <th>Type</th>\n",
       "      <th>DVD</th>\n",
       "      <th>BoxOffice</th>\n",
       "      <th>Production</th>\n",
       "      <th>Website</th>\n",
       "      <th>Response</th>\n",
       "    </tr>\n",
       "    <tr>\n",
       "      <th>Title</th>\n",
       "      <th></th>\n",
       "      <th></th>\n",
       "      <th></th>\n",
       "      <th></th>\n",
       "      <th></th>\n",
       "      <th></th>\n",
       "      <th></th>\n",
       "      <th></th>\n",
       "      <th></th>\n",
       "      <th></th>\n",
       "      <th></th>\n",
       "      <th></th>\n",
       "      <th></th>\n",
       "      <th></th>\n",
       "      <th></th>\n",
       "      <th></th>\n",
       "      <th></th>\n",
       "      <th></th>\n",
       "      <th></th>\n",
       "      <th></th>\n",
       "      <th></th>\n",
       "    </tr>\n",
       "  </thead>\n",
       "  <tbody>\n",
       "    <tr>\n",
       "      <th>Parasite</th>\n",
       "      <td>2019</td>\n",
       "      <td>R</td>\n",
       "      <td>08 Nov 2019</td>\n",
       "      <td>132 min</td>\n",
       "      <td>Comedy, Drama, Horror</td>\n",
       "      <td>Bong Joon Ho</td>\n",
       "      <td>Bong Joon Ho, Han Jin-won</td>\n",
       "      <td>Kang-ho Song, Sun-kyun Lee, Yeo-jeong Cho</td>\n",
       "      <td>Greed and class discrimination threaten the ne...</td>\n",
       "      <td>Korean, English</td>\n",
       "      <td>...</td>\n",
       "      <td>96</td>\n",
       "      <td>8.5</td>\n",
       "      <td>737,033</td>\n",
       "      <td>tt6751668</td>\n",
       "      <td>movie</td>\n",
       "      <td>11 Oct 2019</td>\n",
       "      <td>$53,369,749</td>\n",
       "      <td>NaN</td>\n",
       "      <td>NaN</td>\n",
       "      <td>True</td>\n",
       "    </tr>\n",
       "    <tr>\n",
       "      <th>Green Book</th>\n",
       "      <td>2018</td>\n",
       "      <td>PG-13</td>\n",
       "      <td>16 Nov 2018</td>\n",
       "      <td>130 min</td>\n",
       "      <td>Biography, Comedy, Drama</td>\n",
       "      <td>Peter Farrelly</td>\n",
       "      <td>Nick Vallelonga, Brian Hayes Currie, Peter Far...</td>\n",
       "      <td>Viggo Mortensen, Mahershala Ali, Linda Cardellini</td>\n",
       "      <td>A working-class Italian-American bouncer becom...</td>\n",
       "      <td>English, Italian, Russian, German</td>\n",
       "      <td>...</td>\n",
       "      <td>69</td>\n",
       "      <td>8.2</td>\n",
       "      <td>461,846</td>\n",
       "      <td>tt6966692</td>\n",
       "      <td>movie</td>\n",
       "      <td>12 Mar 2019</td>\n",
       "      <td>$85,080,171</td>\n",
       "      <td>NaN</td>\n",
       "      <td>NaN</td>\n",
       "      <td>True</td>\n",
       "    </tr>\n",
       "  </tbody>\n",
       "</table>\n",
       "<p>2 rows × 24 columns</p>\n",
       "</div>"
      ],
      "text/plain": [
       "            Year  Rated     Released  Runtime                     Genre  \\\n",
       "Title                                                                     \n",
       "Parasite    2019      R  08 Nov 2019  132 min     Comedy, Drama, Horror   \n",
       "Green Book  2018  PG-13  16 Nov 2018  130 min  Biography, Comedy, Drama   \n",
       "\n",
       "                  Director                                             Writer  \\\n",
       "Title                                                                           \n",
       "Parasite      Bong Joon Ho                          Bong Joon Ho, Han Jin-won   \n",
       "Green Book  Peter Farrelly  Nick Vallelonga, Brian Hayes Currie, Peter Far...   \n",
       "\n",
       "                                                       Actors  \\\n",
       "Title                                                           \n",
       "Parasite            Kang-ho Song, Sun-kyun Lee, Yeo-jeong Cho   \n",
       "Green Book  Viggo Mortensen, Mahershala Ali, Linda Cardellini   \n",
       "\n",
       "                                                         Plot  \\\n",
       "Title                                                           \n",
       "Parasite    Greed and class discrimination threaten the ne...   \n",
       "Green Book  A working-class Italian-American bouncer becom...   \n",
       "\n",
       "                                     Language  ... Metascore imdbRating  \\\n",
       "Title                                          ...                        \n",
       "Parasite                      Korean, English  ...        96        8.5   \n",
       "Green Book  English, Italian, Russian, German  ...        69        8.2   \n",
       "\n",
       "           imdbVotes     imdbID   Type          DVD    BoxOffice Production  \\\n",
       "Title                                                                         \n",
       "Parasite     737,033  tt6751668  movie  11 Oct 2019  $53,369,749        NaN   \n",
       "Green Book   461,846  tt6966692  movie  12 Mar 2019  $85,080,171        NaN   \n",
       "\n",
       "           Website Response  \n",
       "Title                        \n",
       "Parasite       NaN     True  \n",
       "Green Book     NaN     True  \n",
       "\n",
       "[2 rows x 24 columns]"
      ]
     },
     "execution_count": 76,
     "metadata": {},
     "output_type": "execute_result"
    }
   ],
   "source": [
    "oscar.head(2)"
   ]
  },
  {
   "cell_type": "markdown",
   "id": "3e6f4948",
   "metadata": {},
   "source": [
    "### 1) (Graph) What was the runtime for each movie?\n"
   ]
  },
  {
   "cell_type": "code",
   "execution_count": 78,
   "id": "61fbd79a",
   "metadata": {},
   "outputs": [
    {
     "name": "stdout",
     "output_type": "stream",
     "text": [
      "Title\n",
      "Parasite                                           132 min\n",
      "Green Book                                         130 min\n",
      "The Shape of Water                                 123 min\n",
      "Moonlight                                          111 min\n",
      "Spotlight                                          129 min\n",
      "Birdman or (The Unexpected Virtue of Ignorance)    119 min\n",
      "12 Years a Slave                                   134 min\n",
      "Argo                                               120 min\n",
      "The Artist                                         100 min\n",
      "The King's Speech                                  118 min\n",
      "Name: Runtime, dtype: object\n"
     ]
    }
   ],
   "source": [
    "print(oscar.Runtime)\n"
   ]
  },
  {
   "cell_type": "markdown",
   "id": "d22096d3",
   "metadata": {},
   "source": [
    "### 2) What movie had the longest runtime?"
   ]
  },
  {
   "cell_type": "code",
   "execution_count": 86,
   "id": "fa863e9d",
   "metadata": {},
   "outputs": [
    {
     "name": "stdout",
     "output_type": "stream",
     "text": [
      "Year            int64\n",
      "Rated          object\n",
      "Released       object\n",
      "Runtime        object\n",
      "Genre          object\n",
      "Director       object\n",
      "Writer         object\n",
      "Actors         object\n",
      "Plot           object\n",
      "Language       object\n",
      "Country        object\n",
      "Awards         object\n",
      "Poster         object\n",
      "Ratings        object\n",
      "Metascore       int64\n",
      "imdbRating    float64\n",
      "imdbVotes      object\n",
      "imdbID         object\n",
      "Type           object\n",
      "DVD            object\n",
      "BoxOffice      object\n",
      "Production    float64\n",
      "Website       float64\n",
      "Response         bool\n",
      "dtype: object\n"
     ]
    }
   ],
   "source": [
    "longest = oscar.sort_values(by=['Runtime'], ascending=False).head(1)\n",
    "print(longest.dtypes)\n"
   ]
  },
  {
   "cell_type": "markdown",
   "id": "0ed126c4",
   "metadata": {},
   "source": [
    "### 3)  Is there any relationship between the length of the movie (runtime) and the number of awards a movie won?\n",
    "  "
   ]
  },
  {
   "cell_type": "code",
   "execution_count": null,
   "id": "26d1af6c",
   "metadata": {},
   "outputs": [],
   "source": []
  },
  {
   "cell_type": "markdown",
   "id": "e60b539f",
   "metadata": {},
   "source": [
    "### 4)  (Graph) How many awards and nominations did each movie receive?"
   ]
  },
  {
   "cell_type": "code",
   "execution_count": null,
   "id": "090936f0",
   "metadata": {},
   "outputs": [],
   "source": []
  }
 ],
 "metadata": {
  "kernelspec": {
   "display_name": "Python 3 (ipykernel)",
   "language": "python",
   "name": "python3"
  },
  "language_info": {
   "codemirror_mode": {
    "name": "ipython",
    "version": 3
   },
   "file_extension": ".py",
   "mimetype": "text/x-python",
   "name": "python",
   "nbconvert_exporter": "python",
   "pygments_lexer": "ipython3",
   "version": "3.9.7"
  }
 },
 "nbformat": 4,
 "nbformat_minor": 5
}
